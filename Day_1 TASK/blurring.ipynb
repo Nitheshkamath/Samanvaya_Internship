{
 "cells": [
  {
   "cell_type": "markdown",
   "id": "1b505c05",
   "metadata": {},
   "source": [
    "# blurring an image"
   ]
  },
  {
   "cell_type": "code",
   "execution_count": 1,
   "id": "d4225feb",
   "metadata": {},
   "outputs": [],
   "source": [
    "import cv2\n",
    "\n",
    "image = cv2.imread('image.jpeg')\n",
    "\n",
    "if image is not None:\n",
    "    \n",
    "    kernel_size = (5, 5)  \n",
    "    blurred_image = cv2.GaussianBlur(image, kernel_size, 0)\n",
    "\n",
    "    cv2.imshow('Original Image', image)\n",
    "    cv2.imshow('Blurred Image', blurred_image)\n",
    "    cv2.waitKey(0)\n",
    "    cv2.destroyAllWindows()\n",
    "else:\n",
    "    print(\"Image not loaded successfully.\")\n"
   ]
  },
  {
   "cell_type": "code",
   "execution_count": null,
   "id": "09390a00",
   "metadata": {},
   "outputs": [],
   "source": []
  }
 ],
 "metadata": {
  "kernelspec": {
   "display_name": "Python 3 (ipykernel)",
   "language": "python",
   "name": "python3"
  },
  "language_info": {
   "codemirror_mode": {
    "name": "ipython",
    "version": 3
   },
   "file_extension": ".py",
   "mimetype": "text/x-python",
   "name": "python",
   "nbconvert_exporter": "python",
   "pygments_lexer": "ipython3",
   "version": "3.10.6"
  }
 },
 "nbformat": 4,
 "nbformat_minor": 5
}
