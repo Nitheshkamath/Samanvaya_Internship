{
 "cells": [
  {
   "cell_type": "markdown",
   "id": "2688ef8f",
   "metadata": {},
   "source": [
    "# Edge detection "
   ]
  },
  {
   "cell_type": "code",
   "execution_count": null,
   "id": "ed0676cb",
   "metadata": {},
   "outputs": [],
   "source": [
    "import cv2\n",
    "import numpy as np\n",
    "\n",
    "image = cv2.imread('image.jpeg', cv2.IMREAD_GRAYSCALE)\n",
    "\n",
    "if image is not None:\n",
    "    blurred_image = cv2.GaussianBlur(image, (5, 5), 0)\n",
    "\n",
    "    edges = cv2.Canny(blurred_image, 50, 150)  \n",
    "    cv2.imshow('Original Image', image)\n",
    "    cv2.imshow('Blurred Image', blurred_image)\n",
    "    cv2.imshow('Edges', edges)\n",
    "    cv2.waitKey(0)\n",
    "    cv2.destroyAllWindows()\n",
    "else:\n",
    "    print(\"Image not loaded successfully.\")\n"
   ]
  },
  {
   "cell_type": "code",
   "execution_count": null,
   "id": "a578655b",
   "metadata": {},
   "outputs": [],
   "source": []
  }
 ],
 "metadata": {
  "kernelspec": {
   "display_name": "Python 3 (ipykernel)",
   "language": "python",
   "name": "python3"
  },
  "language_info": {
   "codemirror_mode": {
    "name": "ipython",
    "version": 3
   },
   "file_extension": ".py",
   "mimetype": "text/x-python",
   "name": "python",
   "nbconvert_exporter": "python",
   "pygments_lexer": "ipython3",
   "version": "3.10.6"
  }
 },
 "nbformat": 4,
 "nbformat_minor": 5
}
