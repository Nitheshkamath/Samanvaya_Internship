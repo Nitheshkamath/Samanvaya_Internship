{
 "cells": [
  {
   "cell_type": "markdown",
   "id": "47faa708",
   "metadata": {},
   "source": [
    "# masking an image"
   ]
  },
  {
   "cell_type": "code",
   "execution_count": null,
   "id": "04ba5020",
   "metadata": {},
   "outputs": [],
   "source": [
    "import cv2\n",
    "import numpy as np\n",
    "\n",
    "image = cv2.imread('image.jpeg')\n",
    "\n",
    "if image is not None:\n",
    "    mask = np.zeros_like(image, dtype=np.uint8)\n",
    "\n",
    "    roi_start_point = (100, 100)\n",
    "    roi_end_point = (300, 300)\n",
    "    color = (255, 255, 255) \n",
    "    thickness = -1  \n",
    "    cv2.rectangle(mask, roi_start_point, roi_end_point, color, thickness)\n",
    "\n",
    "   \n",
    "    masked_image = cv2.bitwise_and(image, mask)\n",
    "\n",
    "    cv2.imshow('Original Image', image)\n",
    "    cv2.imshow('Mask', mask)\n",
    "    cv2.imshow('Masked Image', masked_image)\n",
    "    cv2.waitKey(0)\n",
    "    cv2.destroyAllWindows()\n",
    "else:\n",
    "    print(\"Image not loaded successfully.\")\n"
   ]
  },
  {
   "cell_type": "code",
   "execution_count": null,
   "id": "3951ee37",
   "metadata": {},
   "outputs": [],
   "source": []
  }
 ],
 "metadata": {
  "kernelspec": {
   "display_name": "Python 3 (ipykernel)",
   "language": "python",
   "name": "python3"
  },
  "language_info": {
   "codemirror_mode": {
    "name": "ipython",
    "version": 3
   },
   "file_extension": ".py",
   "mimetype": "text/x-python",
   "name": "python",
   "nbconvert_exporter": "python",
   "pygments_lexer": "ipython3",
   "version": "3.10.6"
  }
 },
 "nbformat": 4,
 "nbformat_minor": 5
}
