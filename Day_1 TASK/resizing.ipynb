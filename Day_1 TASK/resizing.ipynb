{
 "cells": [
  {
   "cell_type": "markdown",
   "id": "634f8453",
   "metadata": {},
   "source": [
    "# resize an images"
   ]
  },
  {
   "cell_type": "code",
   "execution_count": 1,
   "id": "70e77166",
   "metadata": {},
   "outputs": [],
   "source": [
    "import cv2\n",
    "\n",
    "image = cv2.imread('image.jpeg')\n",
    "\n",
    "if image is not None:\n",
    "    \n",
    "    original_height, original_width = image.shape[:2]\n",
    "\n",
    "   \n",
    "    scale_percent = 50 \n",
    "\n",
    "    new_width = int(original_width * scale_percent / 100)\n",
    "    new_height = int(original_height * scale_percent / 100)\n",
    "\n",
    " \n",
    "    resized_image = cv2.resize(image, (new_width, new_height))\n",
    "\n",
    "   \n",
    "    cv2.imshow('Original Image', image)\n",
    "    cv2.imshow('Resized Image', resized_image)\n",
    "    cv2.waitKey(0)\n",
    "    cv2.destroyAllWindows()\n",
    "else:\n",
    "    print(\"Image not loaded successfully.\")\n"
   ]
  },
  {
   "cell_type": "code",
   "execution_count": null,
   "id": "ef860430",
   "metadata": {},
   "outputs": [],
   "source": []
  }
 ],
 "metadata": {
  "kernelspec": {
   "display_name": "Python 3 (ipykernel)",
   "language": "python",
   "name": "python3"
  },
  "language_info": {
   "codemirror_mode": {
    "name": "ipython",
    "version": 3
   },
   "file_extension": ".py",
   "mimetype": "text/x-python",
   "name": "python",
   "nbconvert_exporter": "python",
   "pygments_lexer": "ipython3",
   "version": "3.10.6"
  }
 },
 "nbformat": 4,
 "nbformat_minor": 5
}
