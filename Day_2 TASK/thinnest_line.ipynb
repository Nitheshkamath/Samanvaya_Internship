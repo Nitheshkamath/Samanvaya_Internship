{
 "cells": [
  {
   "cell_type": "code",
   "execution_count": 4,
   "id": "0d8142f6",
   "metadata": {},
   "outputs": [
    {
     "name": "stdout",
     "output_type": "stream",
     "text": [
      "Thinnest Point Coordinates (x, y): 440 96\n"
     ]
    }
   ],
   "source": [
    "import cv2\n",
    "import numpy as np\n",
    "import os\n",
    "\n",
    "def find_thinnest_line(image_path):\n",
    "    \n",
    "    if not os.path.isfile(image_path):\n",
    "        raise FileNotFoundError(f\"Image file not found: {image_path}\")\n",
    "\n",
    "    img = cv2.imread(image_path)\n",
    "    \n",
    "    if img is None:\n",
    "        raise ValueError(f\"Error loading image: {image_path}\")\n",
    "\n",
    "    gray = cv2.cvtColor(img, cv2.COLOR_BGR2GRAY)\n",
    "\n",
    "    edges = cv2.Canny(gray, 50, 150, apertureSize=3)\n",
    "\n",
    "    lines = cv2.HoughLinesP(edges, rho=1, theta=np.pi/180, threshold=100, minLineLength=100, maxLineGap=10)\n",
    "\n",
    "    if lines is None or len(lines) == 0:\n",
    "        raise ValueError(\"No lines detected in the image.\")\n",
    "\n",
    "    image_center = (img.shape[1] // 2, img.shape[0] // 2)\n",
    "\n",
    "    def distance_from_center(x, y):\n",
    "        return np.sqrt((x - image_center[0])**2 + (y - image_center[1])**2)\n",
    "\n",
    "    thinnest_point = min(lines, key=lambda line: distance_from_center((line[0, 0] + line[0, 2]) // 2, (line[0, 1] + line[0, 3]) // 2))\n",
    "\n",
    "   \n",
    "    img_thinnest = img.copy()\n",
    "    x, y = (thinnest_point[0, 0] + thinnest_point[0, 2]) // 2, (thinnest_point[0, 1] + thinnest_point[0, 3]) // 2\n",
    "    cv2.circle(img_thinnest, (x, y), 5, (0, 0, 255), 1)\n",
    "\n",
    "\n",
    "    cv2.imshow('Thinnest Point', img_thinnest)\n",
    "    cv2.waitKey(0)\n",
    "    cv2.destroyAllWindows()\n",
    "\n",
    "    return thinnest_point\n",
    "\n",
    "image_path = 'thin.jpg'\n",
    "\n",
    "try: \n",
    "    thinnest_point = find_thinnest_line(image_path)\n",
    "    print(\"Thinnest Point Coordinates (x, y):\", (thinnest_point[0, 0] + thinnest_point[0, 2]) // 2, (thinnest_point[0, 1] + thinnest_point[0, 3]) // 2)\n",
    "except FileNotFoundError as e:\n",
    "    print(f\"Error: {e}\")\n",
    "except ValueError as e:\n",
    "    print(f\"Error: {e}\")\n"
   ]
  },
  {
   "cell_type": "code",
   "execution_count": null,
   "id": "6209f84b",
   "metadata": {},
   "outputs": [],
   "source": []
  }
 ],
 "metadata": {
  "kernelspec": {
   "display_name": "Python 3 (ipykernel)",
   "language": "python",
   "name": "python3"
  },
  "language_info": {
   "codemirror_mode": {
    "name": "ipython",
    "version": 3
   },
   "file_extension": ".py",
   "mimetype": "text/x-python",
   "name": "python",
   "nbconvert_exporter": "python",
   "pygments_lexer": "ipython3",
   "version": "3.10.6"
  }
 },
 "nbformat": 4,
 "nbformat_minor": 5
}
